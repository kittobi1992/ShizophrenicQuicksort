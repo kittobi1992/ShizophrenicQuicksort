{
 "metadata": {
  "name": ""
 },
 "nbformat": 3,
 "nbformat_minor": 0,
 "worksheets": [
  {
   "cells": [
    {
     "cell_type": "code",
     "collapsed": false,
     "input": [
      "import pandas as pd\n",
      "import pandas.io.sql as pd_sql\n",
      "import sqlite3 as sql\n",
      "import numpy as np\n",
      "import matplotlib.pyplot as plt\n",
      "import matplotlib\n",
      "from scipy import stats\n",
      "from scipy.stats import wilcoxon\n",
      "\n",
      "%pylab inline\n",
      "plt.figure(figsize(20,10));\n"
     ],
     "language": "python",
     "metadata": {},
     "outputs": [
      {
       "output_type": "stream",
       "stream": "stdout",
       "text": [
        "Populating the interactive namespace from numpy and matplotlib\n"
       ]
      },
      {
       "metadata": {},
       "output_type": "display_data",
       "text": [
        "<matplotlib.figure.Figure at 0x7f6e056997f0>"
       ]
      }
     ],
     "prompt_number": 34
    },
    {
     "cell_type": "code",
     "collapsed": false,
     "input": [
      "result_sort = sql.connect(\"/home/theuer/Dokumente/ShizophrenicQuicksort/experiments/2016-01-25_first_shizoprenic_test/result.db\")"
     ],
     "language": "python",
     "metadata": {},
     "outputs": [],
     "prompt_number": 35
    },
    {
     "cell_type": "code",
     "collapsed": false,
     "input": [],
     "language": "python",
     "metadata": {},
     "outputs": [],
     "prompt_number": 35
    },
    {
     "cell_type": "code",
     "collapsed": false,
     "input": [
      "coloumn_rep_string = [\"Min. Time\", \"Avg. Time\"]\n",
      "coloumn_operation = [\"min\",\"mean\"]\n",
      "coloumn_target = [\"time\",\"time\"]\n",
      "sorter = [\"GNU_Parallel\",\"std_sort\",\"ShizophrenicQuicksort\"]\n",
      "p=[1,2,3,4]\n",
      "max_p = 4\n",
      "\n",
      "def createTable():\n",
      "    coloumn = [\"SortAlgo\"]\n",
      "    for i in range(0,len(coloumn_rep_string)):\n",
      "        coloumn = coloumn + [coloumn_rep_string[i]]\n",
      "    df = pd.DataFrame(columns=coloumn)\n",
      "    for sort_algo in sorter:\n",
      "        sort_query = \"algo='\"+sort_algo+\"'\"\n",
      "        if sort_algo == \"ShizophrenicQuicksort\":\n",
      "            sort_query += \" and P=\" + str(max_p)\n",
      "        row_data = [sort_algo]\n",
      "        result_data = pd_sql.read_frame(\"select algo,benchmark,time from experiments where \"+sort_query,result_sort)\n",
      "        for i in range(0,len(coloumn_rep_string)):\n",
      "            if coloumn_operation[i] == \"min\":\n",
      "                min_data = result_data.groupby(['benchmark']).min()\n",
      "                min_data[coloumn_target[i]] = min_data[coloumn_target[i]].astype(float64);\n",
      "                gmean_min_cut = stats.gmean(min_data[coloumn_target[i]])\n",
      "                row_data = row_data + [gmean_min_cut]\n",
      "            if coloumn_operation[i] == \"max\":\n",
      "                max_data = result_data.groupby(['benchmark']).max()\n",
      "                max_data[coloumn_target[i]] = max_data[coloumn_target[i]].astype(float64);\n",
      "                gmean_max_cut = stats.gmean(max_data[coloumn_target[i]])\n",
      "                row_data = row_data + [gmean_max_cut]\n",
      "            if coloumn_operation[i] == \"mean\":\n",
      "                mean_data = result_data.groupby(['benchmark']).mean()\n",
      "                mean_data[coloumn_target[i]] = mean_data[coloumn_target[i]].astype(float64);\n",
      "                gmean_mean_cut = stats.gmean(mean_data[coloumn_target[i]])\n",
      "                row_data = row_data + [gmean_mean_cut]\n",
      "        df.loc[len(df),:] = row_data\n",
      "        \n",
      "    \n",
      "    return df\n",
      "\n",
      "def createShizoScaleTable():\n",
      "    coloumn = [\"P\"]\n",
      "    for i in range(0,len(coloumn_rep_string)):\n",
      "        coloumn = coloumn + [coloumn_rep_string[i]]\n",
      "    df = pd.DataFrame(columns=coloumn)\n",
      "    for pid in p:\n",
      "        result_data = pd_sql.read_frame(\"select algo,benchmark,P,time from experiments where algo='ShizophrenicQuicksort' and P=\"+str(pid),result_sort)\n",
      "        row_data = [pid]\n",
      "        for i in range(0,len(coloumn_rep_string)):\n",
      "            if coloumn_operation[i] == \"min\":\n",
      "                min_data = result_data.groupby(['benchmark','P']).min()\n",
      "                min_data[coloumn_target[i]] = min_data[coloumn_target[i]].astype(float64);\n",
      "                gmean_min_cut = stats.gmean(min_data[coloumn_target[i]])\n",
      "                row_data = row_data + [gmean_min_cut]\n",
      "            if coloumn_operation[i] == \"max\":\n",
      "                max_data = result_data.groupby(['benchmark','P']).max()\n",
      "                max_data[coloumn_target[i]] = max_data[coloumn_target[i]].astype(float64);\n",
      "                gmean_max_cut = stats.gmean(max_data[coloumn_target[i]])\n",
      "                row_data = row_data + [gmean_max_cut]\n",
      "            if coloumn_operation[i] == \"mean\":\n",
      "                mean_data = result_data.groupby(['benchmark','P']).mean()\n",
      "                mean_data[coloumn_target[i]] = mean_data[coloumn_target[i]].astype(float64);\n",
      "                gmean_mean_cut = stats.gmean(mean_data[coloumn_target[i]])\n",
      "                row_data = row_data + [gmean_mean_cut]\n",
      "        df.loc[len(df),:] = row_data\n",
      "        \n",
      "    \n",
      "    return df"
     ],
     "language": "python",
     "metadata": {},
     "outputs": [],
     "prompt_number": 36
    },
    {
     "cell_type": "heading",
     "level": 2,
     "metadata": {},
     "source": [
      "All benchmarks"
     ]
    },
    {
     "cell_type": "code",
     "collapsed": false,
     "input": [
      "overall = createTable()\n",
      "overall"
     ],
     "language": "python",
     "metadata": {},
     "outputs": [
      {
       "html": [
        "<div style=\"max-height:1000px;max-width:1500px;overflow:auto;\">\n",
        "<table border=\"1\" class=\"dataframe\">\n",
        "  <thead>\n",
        "    <tr style=\"text-align: right;\">\n",
        "      <th></th>\n",
        "      <th>SortAlgo</th>\n",
        "      <th>Min. Time</th>\n",
        "      <th>Avg. Time</th>\n",
        "    </tr>\n",
        "  </thead>\n",
        "  <tbody>\n",
        "    <tr>\n",
        "      <th>0</th>\n",
        "      <td>          GNU_Parallel</td>\n",
        "      <td> 1.721118</td>\n",
        "      <td> 1.811277</td>\n",
        "    </tr>\n",
        "    <tr>\n",
        "      <th>1</th>\n",
        "      <td>              std_sort</td>\n",
        "      <td> 3.523094</td>\n",
        "      <td> 3.549487</td>\n",
        "    </tr>\n",
        "    <tr>\n",
        "      <th>2</th>\n",
        "      <td> ShizophrenicQuicksort</td>\n",
        "      <td> 1.837606</td>\n",
        "      <td> 2.064394</td>\n",
        "    </tr>\n",
        "  </tbody>\n",
        "</table>\n",
        "<p>3 rows \u00d7 3 columns</p>\n",
        "</div>"
       ],
       "metadata": {},
       "output_type": "pyout",
       "prompt_number": 37,
       "text": [
        "                SortAlgo Min. Time Avg. Time\n",
        "0           GNU_Parallel  1.721118  1.811277\n",
        "1               std_sort  3.523094  3.549487\n",
        "2  ShizophrenicQuicksort  1.837606  2.064394\n",
        "\n",
        "[3 rows x 3 columns]"
       ]
      }
     ],
     "prompt_number": 37
    },
    {
     "cell_type": "code",
     "collapsed": false,
     "input": [
      "overall.plot(x='SortAlgo',kind='bar')"
     ],
     "language": "python",
     "metadata": {},
     "outputs": [
      {
       "metadata": {},
       "output_type": "pyout",
       "prompt_number": 38,
       "text": [
        "<matplotlib.axes.AxesSubplot at 0x7f6e05699cf8>"
       ]
      },
      {
       "metadata": {},
       "output_type": "display_data",
       "png": "[encoded data removed]",
       "text": [
        "<matplotlib.figure.Figure at 0x7f6e05720b00>"
       ]
      }
     ],
     "prompt_number": 38
    },
    {
     "cell_type": "heading",
     "level": 2,
     "metadata": {},
     "source": [
      "Scaling of ShizophrenicQuicksort"
     ]
    },
    {
     "cell_type": "code",
     "collapsed": false,
     "input": [
      "shizoScale = createShizoScaleTable()\n",
      "shizoScale"
     ],
     "language": "python",
     "metadata": {},
     "outputs": [
      {
       "html": [
        "<div style=\"max-height:1000px;max-width:1500px;overflow:auto;\">\n",
        "<table border=\"1\" class=\"dataframe\">\n",
        "  <thead>\n",
        "    <tr style=\"text-align: right;\">\n",
        "      <th></th>\n",
        "      <th>P</th>\n",
        "      <th>Min. Time</th>\n",
        "      <th>Avg. Time</th>\n",
        "    </tr>\n",
        "  </thead>\n",
        "  <tbody>\n",
        "    <tr>\n",
        "      <th>0</th>\n",
        "      <td> 1</td>\n",
        "      <td> 3.525561</td>\n",
        "      <td> 3.541499</td>\n",
        "    </tr>\n",
        "    <tr>\n",
        "      <th>1</th>\n",
        "      <td> 2</td>\n",
        "      <td> 2.672858</td>\n",
        "      <td> 2.854775</td>\n",
        "    </tr>\n",
        "    <tr>\n",
        "      <th>2</th>\n",
        "      <td> 3</td>\n",
        "      <td> 2.036675</td>\n",
        "      <td> 2.163212</td>\n",
        "    </tr>\n",
        "    <tr>\n",
        "      <th>3</th>\n",
        "      <td> 4</td>\n",
        "      <td> 1.837606</td>\n",
        "      <td> 2.064394</td>\n",
        "    </tr>\n",
        "  </tbody>\n",
        "</table>\n",
        "<p>4 rows \u00d7 3 columns</p>\n",
        "</div>"
       ],
       "metadata": {},
       "output_type": "pyout",
       "prompt_number": 39,
       "text": [
        "   P Min. Time Avg. Time\n",
        "0  1  3.525561  3.541499\n",
        "1  2  2.672858  2.854775\n",
        "2  3  2.036675  2.163212\n",
        "3  4  1.837606  2.064394\n",
        "\n",
        "[4 rows x 3 columns]"
       ]
      }
     ],
     "prompt_number": 39
    },
    {
     "cell_type": "code",
     "collapsed": false,
     "input": [
      "shizoScale.plot(x=\"P\",kind='line',xticks=p,title=\"Scaling with increasing PEs\")"
     ],
     "language": "python",
     "metadata": {},
     "outputs": [
      {
       "metadata": {},
       "output_type": "pyout",
       "prompt_number": 44,
       "text": [
        "<matplotlib.axes.AxesSubplot at 0x7f6e050985c0>"
       ]
      },
      {
       "metadata": {},
       "output_type": "display_data",
       "png": "[encoded data removed]",
       "text": [
        "<matplotlib.figure.Figure at 0x7f6e054f2b00>"
       ]
      }
     ],
     "prompt_number": 44
    },
    {
     "cell_type": "heading",
     "level": 2,
     "metadata": {},
     "source": [
      "Detail Benchmark Results"
     ]
    },
    {
     "cell_type": "code",
     "collapsed": false,
     "input": [
      "result_data = pd_sql.read_frame(\"select algo,benchmark,time from experiments where (algo='ShizophrenicQuicksort' and P=\"+str(max_p)+\") or algo='GNU_Parallel' or algo='std_sort'\",result_sort)\n",
      "mean_data = result_data.groupby(['algo','benchmark']).mean()\n",
      "mean_data = mean_data.unstack(0)\n",
      "mean_data"
     ],
     "language": "python",
     "metadata": {},
     "outputs": [
      {
       "html": [
        "<div style=\"max-height:1000px;max-width:1500px;overflow:auto;\">\n",
        "<table border=\"1\" class=\"dataframe\">\n",
        "  <thead>\n",
        "    <tr>\n",
        "      <th></th>\n",
        "      <th colspan=\"3\" halign=\"left\">time</th>\n",
        "    </tr>\n",
        "    <tr>\n",
        "      <th>algo</th>\n",
        "      <th>GNU_Parallel</th>\n",
        "      <th>ShizophrenicQuicksort</th>\n",
        "      <th>std_sort</th>\n",
        "    </tr>\n",
        "    <tr>\n",
        "      <th>benchmark</th>\n",
        "      <th></th>\n",
        "      <th></th>\n",
        "      <th></th>\n",
        "    </tr>\n",
        "  </thead>\n",
        "  <tbody>\n",
        "    <tr>\n",
        "      <th>input/Benchmarks/Int/big1.in</th>\n",
        "      <td> 5.328986</td>\n",
        "      <td> 8.293268</td>\n",
        "      <td> 10.887940</td>\n",
        "    </tr>\n",
        "    <tr>\n",
        "      <th>input/Benchmarks/Int/big2.in</th>\n",
        "      <td> 5.370724</td>\n",
        "      <td> 7.654288</td>\n",
        "      <td> 10.670080</td>\n",
        "    </tr>\n",
        "    <tr>\n",
        "      <th>input/Benchmarks/Int/big3.in</th>\n",
        "      <td> 5.284216</td>\n",
        "      <td> 8.243872</td>\n",
        "      <td> 10.666200</td>\n",
        "    </tr>\n",
        "    <tr>\n",
        "      <th>input/Benchmarks/Int/int_min_max.in</th>\n",
        "      <td> 2.495926</td>\n",
        "      <td> 3.617392</td>\n",
        "      <td>  5.119378</td>\n",
        "    </tr>\n",
        "    <tr>\n",
        "      <th>input/Benchmarks/Int/negative_big.in</th>\n",
        "      <td> 5.764004</td>\n",
        "      <td> 7.706746</td>\n",
        "      <td> 10.831720</td>\n",
        "    </tr>\n",
        "    <tr>\n",
        "      <th>input/Benchmarks/Int/normal.in</th>\n",
        "      <td> 2.818134</td>\n",
        "      <td> 3.873624</td>\n",
        "      <td>  5.214428</td>\n",
        "    </tr>\n",
        "    <tr>\n",
        "      <th>input/Benchmarks/Int/positive_big.in</th>\n",
        "      <td> 5.513108</td>\n",
        "      <td> 8.053740</td>\n",
        "      <td> 10.629420</td>\n",
        "    </tr>\n",
        "    <tr>\n",
        "      <th>input/Benchmarks/Int/small1.in</th>\n",
        "      <td> 0.223250</td>\n",
        "      <td> 0.366429</td>\n",
        "      <td>  0.446350</td>\n",
        "    </tr>\n",
        "    <tr>\n",
        "      <th>input/Benchmarks/Int/small2.in</th>\n",
        "      <td> 0.191486</td>\n",
        "      <td> 0.400232</td>\n",
        "      <td>  0.387136</td>\n",
        "    </tr>\n",
        "    <tr>\n",
        "      <th>input/Benchmarks/Int/small3.in</th>\n",
        "      <td> 0.220653</td>\n",
        "      <td> 0.372079</td>\n",
        "      <td>  0.440967</td>\n",
        "    </tr>\n",
        "    <tr>\n",
        "      <th>input/Benchmarks/Int/small_range.in</th>\n",
        "      <td> 1.991942</td>\n",
        "      <td> 1.881418</td>\n",
        "      <td>  3.746362</td>\n",
        "    </tr>\n",
        "    <tr>\n",
        "      <th>input/Benchmarks/Int/zero.in</th>\n",
        "      <td> 1.963044</td>\n",
        "      <td> 0.128217</td>\n",
        "      <td>  3.678570</td>\n",
        "    </tr>\n",
        "  </tbody>\n",
        "</table>\n",
        "<p>12 rows \u00d7 3 columns</p>\n",
        "</div>"
       ],
       "metadata": {},
       "output_type": "pyout",
       "prompt_number": 45,
       "text": [
        "                                              time                         \\\n",
        "algo                                  GNU_Parallel  ShizophrenicQuicksort   \n",
        "benchmark                                                                   \n",
        "input/Benchmarks/Int/big1.in              5.328986               8.293268   \n",
        "input/Benchmarks/Int/big2.in              5.370724               7.654288   \n",
        "input/Benchmarks/Int/big3.in              5.284216               8.243872   \n",
        "input/Benchmarks/Int/int_min_max.in       2.495926               3.617392   \n",
        "input/Benchmarks/Int/negative_big.in      5.764004               7.706746   \n",
        "input/Benchmarks/Int/normal.in            2.818134               3.873624   \n",
        "input/Benchmarks/Int/positive_big.in      5.513108               8.053740   \n",
        "input/Benchmarks/Int/small1.in            0.223250               0.366429   \n",
        "input/Benchmarks/Int/small2.in            0.191486               0.400232   \n",
        "input/Benchmarks/Int/small3.in            0.220653               0.372079   \n",
        "input/Benchmarks/Int/small_range.in       1.991942               1.881418   \n",
        "input/Benchmarks/Int/zero.in              1.963044               0.128217   \n",
        "\n",
        "                                                 \n",
        "algo                                   std_sort  \n",
        "benchmark                                        \n",
        "input/Benchmarks/Int/big1.in          10.887940  \n",
        "input/Benchmarks/Int/big2.in          10.670080  \n",
        "input/Benchmarks/Int/big3.in          10.666200  \n",
        "input/Benchmarks/Int/int_min_max.in    5.119378  \n",
        "input/Benchmarks/Int/negative_big.in  10.831720  \n",
        "input/Benchmarks/Int/normal.in         5.214428  \n",
        "input/Benchmarks/Int/positive_big.in  10.629420  \n",
        "input/Benchmarks/Int/small1.in         0.446350  \n",
        "input/Benchmarks/Int/small2.in         0.387136  \n",
        "input/Benchmarks/Int/small3.in         0.440967  \n",
        "input/Benchmarks/Int/small_range.in    3.746362  \n",
        "input/Benchmarks/Int/zero.in           3.678570  \n",
        "\n",
        "[12 rows x 3 columns]"
       ]
      }
     ],
     "prompt_number": 45
    },
    {
     "cell_type": "code",
     "collapsed": false,
     "input": [],
     "language": "python",
     "metadata": {},
     "outputs": [],
     "prompt_number": 41
    },
    {
     "cell_type": "code",
     "collapsed": false,
     "input": [],
     "language": "python",
     "metadata": {},
     "outputs": [],
     "prompt_number": 41
    }
   ],
   "metadata": {}
  }
 ]
}